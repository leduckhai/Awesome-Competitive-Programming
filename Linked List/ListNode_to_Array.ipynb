{
  "nbformat": 4,
  "nbformat_minor": 0,
  "metadata": {
    "colab": {
      "provenance": []
    },
    "kernelspec": {
      "name": "python3",
      "display_name": "Python 3"
    },
    "language_info": {
      "name": "python"
    }
  },
  "cells": [
    {
      "cell_type": "code",
      "source": [
        "'''\n",
        "  Function to convert ListNode to Array\n",
        "\n",
        "  Parameters:\n",
        "  -----------\n",
        "    root : ListNode\n",
        "           ListNode object\n",
        "\n",
        "  Examples:\n",
        "  ---------\n",
        "    >>> root = ListNode(0)\n",
        "    >>> root.next = ListNode(1)\n",
        "    >>> root.next.next = ListNode(2)\n",
        "    >>> print(ListNode_to_Array(root))\n",
        "    [0, 1, 2]\n",
        "'''\n",
        "\n",
        "class ListNode:\n",
        "  def __init__(self, val=0, next=None):\n",
        "    self.val = val\n",
        "    self.next = next\n",
        "\n",
        "def ListNode_to_Array(root):\n",
        "  curr = root\n",
        "  arr = []\n",
        "\n",
        "  while curr:\n",
        "    arr.append(curr.val)\n",
        "    curr = curr.next\n",
        "\n",
        "  return arr"
      ],
      "metadata": {
        "id": "GBzvaIlHHaWM"
      },
      "execution_count": 7,
      "outputs": []
    }
  ]
}