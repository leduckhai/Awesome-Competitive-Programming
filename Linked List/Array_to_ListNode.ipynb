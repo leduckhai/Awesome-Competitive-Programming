{
  "nbformat": 4,
  "nbformat_minor": 0,
  "metadata": {
    "colab": {
      "provenance": []
    },
    "kernelspec": {
      "name": "python3",
      "display_name": "Python 3"
    },
    "language_info": {
      "name": "python"
    }
  },
  "cells": [
    {
      "cell_type": "code",
      "source": [
        "'''\n",
        "  Function to convert Array to ListNode\n",
        "\n",
        "  Parameters:\n",
        "  -----------\n",
        "    root : ListNode\n",
        "           ListNode object\n",
        "\n",
        "  Examples:\n",
        "  ---------\n",
        "    >>> arr = [0, 1, 2]\n",
        "    >>> root = Array_to_ListNode(arr)\n",
        "    >>> print(root.val, root.next.val, root.next.next.val)\n",
        "    0 1 2\n",
        "'''\n",
        "\n",
        "class ListNode:\n",
        "  def __init__(self, val=0, next=None):\n",
        "    self.val = val\n",
        "    self.next = next\n",
        "\n",
        "def Array_to_ListNode(arr):\n",
        "  root = ListNode()\n",
        "  curr = root\n",
        "\n",
        "  for i in range(0, len(arr)):\n",
        "    curr.val = arr[i]\n",
        "    if i < len(arr)-1:\n",
        "      curr.next = ListNode()\n",
        "      curr = curr.next\n",
        "\n",
        "  return root"
      ],
      "metadata": {
        "id": "GBzvaIlHHaWM"
      },
      "execution_count": 10,
      "outputs": []
    }
  ]
}