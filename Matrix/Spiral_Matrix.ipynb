{
  "nbformat": 4,
  "nbformat_minor": 0,
  "metadata": {
    "colab": {
      "provenance": []
    },
    "kernelspec": {
      "name": "python3",
      "display_name": "Python 3"
    },
    "language_info": {
      "name": "python"
    }
  },
  "cells": [
    {
      "cell_type": "code",
      "execution_count": 2,
      "metadata": {
        "id": "1D2s30Rv40Ab"
      },
      "outputs": [],
      "source": [
        "'''\n",
        "  Solution to Spiral Matrix\n",
        "  Find all elements of the matrix in spiral order\n",
        "  Time complexity = O(R.C)\n",
        "\n",
        "  Examples:\n",
        "  ---------\n",
        "    >>> matrix = [[1,2,3],[4,5,6],[7,8,9]]\n",
        "    >>> print(spiralOrder(matrix))\n",
        "    [1, 2, 3, 6, 9, 8, 7, 4, 5]\n",
        "\n",
        "    >>> matrix = [[1,2,3,4],[5,6,7,8],[9,10,11,12]]\n",
        "    >>> print(spiralOrder(matrix))\n",
        "    [1, 2, 3, 4, 8, 12, 11, 10, 9, 5, 6, 7]\n",
        "\n",
        "  References:\n",
        "  ---------\n",
        "  https://leetcode.com/problems/spiral-matrix\n",
        "'''\n",
        "from typing import List\n",
        "\n",
        "def spiralOrder(matrix: List[List[int]]) -> List[int]:\n",
        "  R, C = len(matrix), len(matrix[0]) # Size of matrix\n",
        "\n",
        "  flag = 'right' # Variable to guide to current position to next position\n",
        "  r, c = 0, 0 # Current position\n",
        "\n",
        "  path = [] # The path that the current position has moved\n",
        "  seen = set() # To not move to the seen position\n",
        "\n",
        "  while len(path) < R*C:\n",
        "    #print(path, r,c) # For debug\n",
        "\n",
        "    if (r,c) not in seen:\n",
        "      path.append(matrix[r][c])\n",
        "      seen.add((r,c))\n",
        "\n",
        "    if flag == 'right':\n",
        "      c += 1\n",
        "      if c == C or (r,c) in seen: # If reach the matrix boundary or seen position, then go down\n",
        "        c -= 1\n",
        "        flag = 'down'\n",
        "\n",
        "    elif flag == 'down':\n",
        "      r += 1\n",
        "      if r == R or (r,c) in seen: # If reach the matrix boundary or seen position, then go left\n",
        "        r -= 1\n",
        "        flag = 'left'\n",
        "\n",
        "    elif flag == 'left':\n",
        "      c -= 1\n",
        "      if c == -1 or (r,c) in seen: # If reach the matrix boundary or seen position, then go up\n",
        "        c += 1\n",
        "        flag = 'up'\n",
        "\n",
        "    elif flag == 'up':\n",
        "      r -= 1\n",
        "      if (r,c) in seen: # If reach the seen position, then go right\n",
        "        r += 1\n",
        "        flag = 'right'\n",
        "\n",
        "  return path"
      ]
    }
  ]
}
