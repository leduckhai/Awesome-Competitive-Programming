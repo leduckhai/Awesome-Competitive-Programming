{
  "nbformat": 4,
  "nbformat_minor": 0,
  "metadata": {
    "colab": {
      "provenance": []
    },
    "kernelspec": {
      "name": "python3",
      "display_name": "Python 3"
    },
    "language_info": {
      "name": "python"
    }
  },
  "cells": [
    {
      "cell_type": "code",
      "execution_count": 5,
      "metadata": {
        "id": "1D2s30Rv40Ab"
      },
      "outputs": [],
      "source": [
        "'''\n",
        "  Solution to Diagonal Traverse\n",
        "  Find all the elements of the array in a diagonal order\n",
        "  Time complexity = O(R.C)\n",
        "\n",
        "  Examples:\n",
        "  ---------\n",
        "    >>> mat = [[1,2,3],[4,5,6],[7,8,9]]\n",
        "    >>> print(findDiagonalOrder(mat))\n",
        "    [1, 2, 4, 7, 5, 3, 6, 8, 9]\n",
        "\n",
        "    >>> mat = [[1,2],[3,4]]\n",
        "    >>> print(findDiagonalOrder(mat))\n",
        "    [1, 2, 3, 4]\n",
        "\n",
        "  References:\n",
        "    https://leetcode.com/problems/diagonal-traverse\n",
        "'''\n",
        "from typing import List\n",
        "\n",
        "def findDiagonalOrder(mat: List[List[int]]) -> List[int]:\n",
        "  # Diagonal extraction approach\n",
        "\n",
        "  R, C = len(mat), len(mat[0]) # Size of matrix\n",
        "  seen = set() # To not start in a position that's already seen\n",
        "  reverse = True # A flag to reverse the diagonal as required in the problem statement\n",
        "  path = []\n",
        "\n",
        "  for r in range(R):\n",
        "    for c in range(C):\n",
        "      if (r, c) not in seen:\n",
        "\n",
        "        d = [] # Diagonal of a submatrix\n",
        "        i, j = r, c # Position of each element in a diagonal\n",
        "        while i < R and j >= 0:\n",
        "          d.append(mat[i][j])\n",
        "          seen.add((i,j))\n",
        "          i += 1\n",
        "          j -= 1\n",
        "\n",
        "        # Decide whether to reverse the diagonal or not\n",
        "        if reverse == True:\n",
        "          d = d[::-1]\n",
        "          reverse = False\n",
        "        else:\n",
        "          reverse = True\n",
        "        path += d\n",
        "\n",
        "        #print(r,c,d) # For debug\n",
        "\n",
        "  return path"
      ]
    },
    {
      "cell_type": "code",
      "source": [
        "def findDiagonalOrder(mat: List[List[int]]) -> List[int]:\n",
        "  # Simulation approach\n",
        "\n",
        "  flag = 'up'\n",
        "  r, c = 0, 0\n",
        "  R, C = len(mat), len(mat[0])\n",
        "  path = []\n",
        "  seen = set()\n",
        "\n",
        "  while len(path) < R*C:\n",
        "    #print(r,c, flag, path) # For debug\n",
        "\n",
        "    if (r, c) not in seen:\n",
        "      path.append(mat[r][c])\n",
        "      seen.add((r, c))\n",
        "\n",
        "    if flag == 'up':\n",
        "      if r == 0 or c == C-1: # If reach matrix boundary, then reverse the direction\n",
        "        flag = 'down'\n",
        "        if c < C-1:\n",
        "          c += 1\n",
        "        elif c == C-1:\n",
        "          r += 1\n",
        "        continue\n",
        "      r -= 1\n",
        "      c += 1\n",
        "\n",
        "    elif flag == 'down':\n",
        "      if c == 0 or r == R-1: # If reach matrix boundary, then reverse the direction\n",
        "        flag = 'up'\n",
        "        if r < R-1:\n",
        "          r += 1\n",
        "        elif r == R-1:\n",
        "          c += 1\n",
        "        continue\n",
        "      r += 1\n",
        "      c -= 1\n",
        "\n",
        "  return path"
      ],
      "metadata": {
        "id": "Ge7jTwKPuqLD"
      },
      "execution_count": 9,
      "outputs": []
    }
  ]
}
