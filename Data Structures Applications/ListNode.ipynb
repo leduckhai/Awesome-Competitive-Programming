{
  "nbformat": 4,
  "nbformat_minor": 0,
  "metadata": {
    "colab": {
      "provenance": []
    },
    "kernelspec": {
      "name": "python3",
      "display_name": "Python 3"
    },
    "language_info": {
      "name": "python"
    }
  },
  "cells": [
    {
      "cell_type": "code",
      "source": [
        "'''\n",
        "  Function to define a singly-linked list using \"Node class\"\n",
        "\n",
        "  Parameters:\n",
        "  -----------\n",
        "    val : integer\n",
        "          Value of the node\n",
        "    next: None or ListNode\n",
        "          None or another node\n",
        "\n",
        "  Examples:\n",
        "  ---------\n",
        "    >>> root = ListNode()\n",
        "    >>> root.val = 1\n",
        "    >>> root.next = ListNode()\n",
        "    >>> print(root)\n",
        "    <__main__.ListNode object at 0x7d6c1624a5f0>\n",
        "\n",
        "    >>> print(root.val)\n",
        "    1\n",
        "\n",
        "    >>> print(root.next.val)\n",
        "    0\n",
        "'''\n",
        "\n",
        "class ListNode:\n",
        "  def __init__(self, val=0, next=None):\n",
        "    self.val = val\n",
        "    self.next = next"
      ],
      "metadata": {
        "id": "GBzvaIlHHaWM"
      },
      "execution_count": 2,
      "outputs": []
    }
  ]
}